{
  "cells": [
    {
      "cell_type": "code",
      "execution_count": 1,
      "metadata": {
        "id": "V2Ig1WrGrHIU"
      },
      "outputs": [],
      "source": [
        "import numpy as np"
      ]
    },
    {
      "cell_type": "code",
      "execution_count": 2,
      "metadata": {
        "id": "U1Px3QP0rRmY"
      },
      "outputs": [],
      "source": [
        "def calc_epsilon(dtype):\n",
        "    machine_epsilon = dtype(1)\n",
        "    mantis_counter = 0\n",
        "    while dtype(1) + dtype(machine_epsilon) / dtype(2) != dtype(1):\n",
        "        machine_epsilon = dtype(machine_epsilon) / dtype(2)\n",
        "        mantis_counter += 1\n",
        "    return machine_epsilon, mantis_counter"
      ]
    },
    {
      "cell_type": "code",
      "execution_count": 13,
      "metadata": {},
      "outputs": [],
      "source": [
        "def get_max_epsilon(dtype):\n",
        "    num = dtype(1)\n",
        "    e_max = 0\n",
        "    while num != dtype(\"inf\"):\n",
        "        num *= dtype(2)\n",
        "        e_max += 1\n",
        "        \n",
        "    return e_max\n",
        "\n",
        "\n",
        "def get_min_epsilon(dtype):\n",
        "    num = dtype(1)\n",
        "    e_min = 0\n",
        "    while num != 0:\n",
        "        num /= dtype(2)\n",
        "        e_min += 1\n",
        "\n",
        "    return e_min"
      ]
    },
    {
      "cell_type": "code",
      "execution_count": 18,
      "metadata": {
        "id": "oYfy7Gw6rRi_"
      },
      "outputs": [
        {
          "name": "stderr",
          "output_type": "stream",
          "text": [
            "C:\\Users\\rogue\\AppData\\Local\\Temp\\ipykernel_18716\\413229737.py:5: RuntimeWarning: overflow encountered in scalar multiply\n",
            "  num *= dtype(2)\n"
          ]
        },
        {
          "data": {
            "text/plain": [
              "(128, -127)"
            ]
          },
          "execution_count": 18,
          "metadata": {},
          "output_type": "execute_result"
        }
      ],
      "source": [
        "epsilon, mantis = calc_epsilon(np.float32)\n",
        "exponent = 31 - mantis\n",
        "# e_max = 2 ** exponent - 1\n",
        "# e_min = 2 ** -exponent\n",
        "get_max_epsilon(np.float32), -get_min_epsilon(np.float32) + mantis\n"
      ]
    },
    {
      "cell_type": "code",
      "execution_count": 4,
      "metadata": {
        "colab": {
          "base_uri": "https://localhost:8080/",
          "height": 35
        },
        "id": "mC4g7Zy0rRgw",
        "outputId": "b00482c1-8245-437a-9306-8b6f12dbef47"
      },
      "outputs": [
        {
          "data": {
            "text/plain": [
              "'epsilon: 1.1920928955078125e-07, mantis: 23, exponent: 8, max_exponent: 255, min_exponent: 0.00390625'"
            ]
          },
          "execution_count": 4,
          "metadata": {},
          "output_type": "execute_result"
        }
      ],
      "source": [
        "f\"epsilon: {epsilon}, mantis: {mantis}, exponent: {exponent}, max_exponent: {e_max}, min_exponent: {e_min}\""
      ]
    },
    {
      "cell_type": "code",
      "execution_count": 19,
      "metadata": {
        "id": "93kaZ_bjrReZ"
      },
      "outputs": [
        {
          "name": "stderr",
          "output_type": "stream",
          "text": [
            "C:\\Users\\rogue\\AppData\\Local\\Temp\\ipykernel_18716\\413229737.py:5: RuntimeWarning: overflow encountered in scalar multiply\n",
            "  num *= dtype(2)\n"
          ]
        },
        {
          "data": {
            "text/plain": [
              "(1024, -1023)"
            ]
          },
          "execution_count": 19,
          "metadata": {},
          "output_type": "execute_result"
        }
      ],
      "source": [
        "# for double\n",
        "epsilon, mantis = calc_epsilon(np.float64)\n",
        "exponent = 63 - mantis\n",
        "# e_max = 2 ** exponent - 1\n",
        "# e_min = 2 ** -exponent\n",
        "get_max_epsilon(np.float64), -get_min_epsilon(np.float64) + mantis"
      ]
    },
    {
      "cell_type": "code",
      "execution_count": 6,
      "metadata": {
        "colab": {
          "base_uri": "https://localhost:8080/",
          "height": 35
        },
        "id": "J87QOhw3rRb8",
        "outputId": "c82d936b-a68f-4547-e888-e670d9117c21"
      },
      "outputs": [
        {
          "data": {
            "text/plain": [
              "'epsilon: 2.220446049250313e-16, mantis: 52, exponent: 11, max_exponent: 2047, min_exponent: 0.00048828125'"
            ]
          },
          "execution_count": 6,
          "metadata": {},
          "output_type": "execute_result"
        }
      ],
      "source": [
        "f\"epsilon: {epsilon}, mantis: {mantis}, exponent: {exponent}, max_exponent: {e_max}, min_exponent: {e_min}\""
      ]
    },
    {
      "cell_type": "code",
      "execution_count": 25,
      "metadata": {
        "colab": {
          "base_uri": "https://localhost:8080/"
        },
        "id": "JMYRJ_VCrRRi",
        "outputId": "952d0d94-b6b1-4f72-a0d7-b709dae6e93d"
      },
      "outputs": [
        {
          "data": {
            "text/plain": [
              "(1, 1.0000000000000002, 1.0, 1.0000000000000004)"
            ]
          },
          "execution_count": 25,
          "metadata": {},
          "output_type": "execute_result"
        }
      ],
      "source": [
        "1, 1 + epsilon, 1 + epsilon / 2, 1 + epsilon + epsilon * (2.5 / 5)"
      ]
    }
  ],
  "metadata": {
    "colab": {
      "provenance": []
    },
    "kernelspec": {
      "display_name": "Python 3",
      "name": "python3"
    },
    "language_info": {
      "codemirror_mode": {
        "name": "ipython",
        "version": 3
      },
      "file_extension": ".py",
      "mimetype": "text/x-python",
      "name": "python",
      "nbconvert_exporter": "python",
      "pygments_lexer": "ipython3",
      "version": "3.12.0"
    }
  },
  "nbformat": 4,
  "nbformat_minor": 0
}
