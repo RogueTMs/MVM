{
  "cells": [
    {
      "cell_type": "code",
      "execution_count": 2,
      "metadata": {
        "id": "V2Ig1WrGrHIU"
      },
      "outputs": [],
      "source": [
        "import numpy as np"
      ]
    },
    {
      "cell_type": "code",
      "execution_count": 3,
      "metadata": {
        "id": "U1Px3QP0rRmY"
      },
      "outputs": [],
      "source": [
        "def calc_epsilon(cast):\n",
        "    machine_epsilon = cast(1)\n",
        "    mantis_counter = 0\n",
        "    while cast(1) + cast(machine_epsilon) / cast(2) != cast(1):\n",
        "        machine_epsilon = cast(machine_epsilon) / cast(2)\n",
        "        mantis_counter += 1\n",
        "    return machine_epsilon, mantis_counter"
      ]
    },
    {
      "cell_type": "code",
      "execution_count": 4,
      "metadata": {
        "id": "oYfy7Gw6rRi_"
      },
      "outputs": [],
      "source": [
        "epsilon, mantis = calc_epsilon(np.float32)\n",
        "exponent = 31 - mantis\n",
        "e_max = 2 ** exponent - 1\n",
        "e_min = 2 ** -exponent"
      ]
    },
    {
      "cell_type": "code",
      "execution_count": 5,
      "metadata": {
        "colab": {
          "base_uri": "https://localhost:8080/",
          "height": 35
        },
        "id": "mC4g7Zy0rRgw",
        "outputId": "b00482c1-8245-437a-9306-8b6f12dbef47"
      },
      "outputs": [
        {
          "data": {
            "text/plain": [
              "'epsilon: 1.1920928955078125e-07, mantis: 23, exponent: 8, max_exponent: 255, min_exponent: 0.00390625'"
            ]
          },
          "execution_count": 5,
          "metadata": {},
          "output_type": "execute_result"
        }
      ],
      "source": [
        "f\"epsilon: {epsilon}, mantis: {mantis}, exponent: {exponent}, max_exponent: {e_max}, min_exponent: {e_min}\""
      ]
    },
    {
      "cell_type": "code",
      "execution_count": 6,
      "metadata": {
        "id": "93kaZ_bjrReZ"
      },
      "outputs": [],
      "source": [
        "# for double\n",
        "epsilon, mantis = calc_epsilon(np.float64)\n",
        "exponent = 63 - mantis\n",
        "e_max = 2 ** exponent - 1\n",
        "e_min = 2 ** -exponent"
      ]
    },
    {
      "cell_type": "code",
      "execution_count": 7,
      "metadata": {
        "colab": {
          "base_uri": "https://localhost:8080/",
          "height": 35
        },
        "id": "J87QOhw3rRb8",
        "outputId": "c82d936b-a68f-4547-e888-e670d9117c21"
      },
      "outputs": [
        {
          "data": {
            "text/plain": [
              "'epsilon: 2.220446049250313e-16, mantis: 52, exponent: 11, max_exponent: 2047, min_exponent: 0.00048828125'"
            ]
          },
          "execution_count": 7,
          "metadata": {},
          "output_type": "execute_result"
        }
      ],
      "source": [
        "f\"epsilon: {epsilon}, mantis: {mantis}, exponent: {exponent}, max_exponent: {e_max}, min_exponent: {e_min}\""
      ]
    },
    {
      "cell_type": "code",
      "execution_count": 8,
      "metadata": {
        "colab": {
          "base_uri": "https://localhost:8080/"
        },
        "id": "JMYRJ_VCrRRi",
        "outputId": "952d0d94-b6b1-4f72-a0d7-b709dae6e93d"
      },
      "outputs": [
        {
          "data": {
            "text/plain": [
              "(1, 1.0000000000000002, 1.0, 1.0000000000000004)"
            ]
          },
          "execution_count": 8,
          "metadata": {},
          "output_type": "execute_result"
        }
      ],
      "source": [
        "1, 1 + epsilon, 1 + epsilon / 2, 1 + epsilon + epsilon / 2"
      ]
    }
  ],
  "metadata": {
    "colab": {
      "provenance": []
    },
    "kernelspec": {
      "display_name": "Python 3",
      "name": "python3"
    },
    "language_info": {
      "codemirror_mode": {
        "name": "ipython",
        "version": 3
      },
      "file_extension": ".py",
      "mimetype": "text/x-python",
      "name": "python",
      "nbconvert_exporter": "python",
      "pygments_lexer": "ipython3",
      "version": "3.12.0"
    }
  },
  "nbformat": 4,
  "nbformat_minor": 0
}
